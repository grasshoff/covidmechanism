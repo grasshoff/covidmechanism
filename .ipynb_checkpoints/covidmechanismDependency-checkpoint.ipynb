{
 "cells": [
  {
   "cell_type": "markdown",
   "id": "legitimate-buffer",
   "metadata": {},
   "source": [
    "# Covid causal mechanism\n",
    "Gerd Graßhoff, Humboldt University of Berlin, Max Planck Institute for History of Science, BIFOLD"
   ]
  },
  {
   "cell_type": "markdown",
   "id": "spiritual-cuisine",
   "metadata": {},
   "source": [
    "## Goal\n",
    "\n",
    "Analysis of abstracts of Covid publications (more than 210 000) provides a set of terms used for expressing causal relationships. Often they are identified as \"mechanism\". This notebooks identify expressions describing aspects of causal statements.\n",
    "These terms are grouped:\n",
    "\n",
    "#### Cause\n",
    "\n",
    "- cause\n",
    "- factor\n",
    "\n",
    "#### Effects\n",
    "\n",
    "- disease\n",
    "- events\n",
    "\n",
    "#### causal relevance\n",
    "\n",
    "##### positive\n",
    "\n",
    "- increase\n",
    "- stimulate\n",
    "\n",
    "##### negative\n",
    "\n",
    "- inhibits\n",
    "- prevents"
   ]
  },
  {
   "cell_type": "code",
   "execution_count": 2,
   "id": "mature-orleans",
   "metadata": {},
   "outputs": [],
   "source": [
    "import pandas as pd"
   ]
  },
  {
   "cell_type": "code",
   "execution_count": 3,
   "id": "tight-david",
   "metadata": {
    "slideshow": {
     "slide_type": "skip"
    }
   },
   "outputs": [
    {
     "name": "stdout",
     "output_type": "stream",
     "text": [
      "3.0.1\n"
     ]
    }
   ],
   "source": [
    "import spacy\n",
    "print(spacy.__version__) "
   ]
  },
  {
   "cell_type": "code",
   "execution_count": 4,
   "id": "exotic-accountability",
   "metadata": {
    "slideshow": {
     "slide_type": "skip"
    }
   },
   "outputs": [],
   "source": [
    "# Import library\n",
    "nlp = spacy.load('en_core_web_lg')"
   ]
  },
  {
   "cell_type": "markdown",
   "id": "military-portland",
   "metadata": {},
   "source": [
    "# Load dimension covid publication dataframe \n",
    "Note that the data directory is parallel to the notebook directory to save github storage space.\n",
    "The data files are hosted in figshare and its file name need to be renamed appropriately\n",
    "\n",
    "https://dimensions.figshare.com/articles/dataset/Dimensions_COVID-19_publications_datasets_and_clinical_trials/11961063\n",
    "\n",
    "loads data in compressed format\n",
    "\n",
    "install fastparquet\n",
    "\n",
    "conda install -c conda-forge python-snappy fastparquet snappy"
   ]
  },
  {
   "cell_type": "raw",
   "id": "instant-accreditation",
   "metadata": {},
   "source": [
    "# takes some time to read raw data, then creates a parquet data format for faster loading\n",
    "# is uncommented once parquet data are available\n",
    "df=pd.read_excel(\"../coviddata/dimensions-covid-2021-Feb-19.xlsx\")\n",
    "df.to_parquet('../coviddata/covid.parquet')"
   ]
  },
  {
   "cell_type": "code",
   "execution_count": 13,
   "id": "married-biodiversity",
   "metadata": {},
   "outputs": [
    {
     "name": "stdout",
     "output_type": "stream",
     "text": [
      "<class 'pandas.core.frame.DataFrame'>\n",
      "RangeIndex: 216722 entries, 0 to 216721\n",
      "Data columns (total 31 columns):\n",
      " #   Column                                 Non-Null Count   Dtype  \n",
      "---  ------                                 --------------   -----  \n",
      " 0   Date added                             216722 non-null  object \n",
      " 1   Publication ID                         216722 non-null  object \n",
      " 2   DOI                                    212447 non-null  object \n",
      " 3   PMID                                   98507 non-null   float64\n",
      " 4   PMCID                                  75794 non-null   object \n",
      " 5   Title                                  216722 non-null  object \n",
      " 6   Abstract                               142644 non-null  object \n",
      " 7   Source title                           197976 non-null  object \n",
      " 8   Source UID                             197976 non-null  object \n",
      " 9   Publisher                              202095 non-null  object \n",
      " 10  MeSH terms                             40609 non-null   object \n",
      " 11  Publication Date                       216722 non-null  object \n",
      " 12  PubYear                                216722 non-null  int64  \n",
      " 13  Volume                                 139324 non-null  object \n",
      " 14  Issue                                  118076 non-null  object \n",
      " 15  Pagination                             161681 non-null  object \n",
      " 16  Open Access                            216722 non-null  object \n",
      " 17  Publication Type                       216722 non-null  object \n",
      " 18  Authors                                204321 non-null  object \n",
      " 19  Corresponding Authors                  64194 non-null   object \n",
      " 20  Authors Affiliations                   204321 non-null  object \n",
      " 21  Research Organizations - standardized  126534 non-null  object \n",
      " 22  GRID IDs                               126534 non-null  object \n",
      " 23  City of Research organization          126534 non-null  object \n",
      " 24  Country of Research organization       126534 non-null  object \n",
      " 25  Funder                                 22440 non-null   object \n",
      " 26  UIDs of supporting grants              11386 non-null   object \n",
      " 27  Times cited                            216722 non-null  int64  \n",
      " 28  Altmetric                              100513 non-null  float64\n",
      " 29  Source Linkout                         159645 non-null  object \n",
      " 30  Dimensions URL                         216722 non-null  object \n",
      "dtypes: float64(2), int64(2), object(27)\n",
      "memory usage: 51.3+ MB\n"
     ]
    }
   ],
   "source": [
    "df=pd.read_parquet('../coviddata/covid.parquet')\n",
    "df.info()"
   ]
  },
  {
   "cell_type": "code",
   "execution_count": 14,
   "id": "mobile-penguin",
   "metadata": {},
   "outputs": [
    {
     "name": "stdout",
     "output_type": "stream",
     "text": [
      "8336\n"
     ]
    },
    {
     "data": {
      "text/html": [
       "<div>\n",
       "<style scoped>\n",
       "    .dataframe tbody tr th:only-of-type {\n",
       "        vertical-align: middle;\n",
       "    }\n",
       "\n",
       "    .dataframe tbody tr th {\n",
       "        vertical-align: top;\n",
       "    }\n",
       "\n",
       "    .dataframe thead th {\n",
       "        text-align: right;\n",
       "    }\n",
       "</style>\n",
       "<table border=\"1\" class=\"dataframe\">\n",
       "  <thead>\n",
       "    <tr style=\"text-align: right;\">\n",
       "      <th></th>\n",
       "      <th>Date added</th>\n",
       "      <th>Publication ID</th>\n",
       "      <th>DOI</th>\n",
       "      <th>PMID</th>\n",
       "      <th>PMCID</th>\n",
       "      <th>Title</th>\n",
       "      <th>Abstract</th>\n",
       "      <th>Source title</th>\n",
       "      <th>Source UID</th>\n",
       "      <th>Publisher</th>\n",
       "      <th>...</th>\n",
       "      <th>Research Organizations - standardized</th>\n",
       "      <th>GRID IDs</th>\n",
       "      <th>City of Research organization</th>\n",
       "      <th>Country of Research organization</th>\n",
       "      <th>Funder</th>\n",
       "      <th>UIDs of supporting grants</th>\n",
       "      <th>Times cited</th>\n",
       "      <th>Altmetric</th>\n",
       "      <th>Source Linkout</th>\n",
       "      <th>Dimensions URL</th>\n",
       "    </tr>\n",
       "  </thead>\n",
       "  <tbody>\n",
       "    <tr>\n",
       "      <th>6</th>\n",
       "      <td>2020-11-30</td>\n",
       "      <td>pub.1132921789</td>\n",
       "      <td>10.1016/j.neulet.2020.135531</td>\n",
       "      <td>NaN</td>\n",
       "      <td>None</td>\n",
       "      <td>Neuro-Ophthalmologic Complications of Coronavi...</td>\n",
       "      <td>Multiple neuro-ophthalmological manifestations...</td>\n",
       "      <td>Neuroscience Letters</td>\n",
       "      <td>jour.1084802</td>\n",
       "      <td>None</td>\n",
       "      <td>...</td>\n",
       "      <td>New York University Langone Medical Center</td>\n",
       "      <td>grid.240324.3</td>\n",
       "      <td>New York</td>\n",
       "      <td>United States</td>\n",
       "      <td>None</td>\n",
       "      <td>None</td>\n",
       "      <td>0</td>\n",
       "      <td>1.0</td>\n",
       "      <td>None</td>\n",
       "      <td>https://app.dimensions.ai/details/publication/...</td>\n",
       "    </tr>\n",
       "    <tr>\n",
       "      <th>42</th>\n",
       "      <td>2020-11-30</td>\n",
       "      <td>pub.1132921496</td>\n",
       "      <td>10.1016/j.neulet.2020.135528</td>\n",
       "      <td>NaN</td>\n",
       "      <td>None</td>\n",
       "      <td>What can we learn from brain autopsy in COVID-19?</td>\n",
       "      <td>Severe acute respiratory syndrome coronavirus ...</td>\n",
       "      <td>Neuroscience Letters</td>\n",
       "      <td>jour.1084802</td>\n",
       "      <td>None</td>\n",
       "      <td>...</td>\n",
       "      <td>None</td>\n",
       "      <td>None</td>\n",
       "      <td>None</td>\n",
       "      <td>None</td>\n",
       "      <td>National Institute of Neurological Disorders a...</td>\n",
       "      <td>grant.7440016</td>\n",
       "      <td>0</td>\n",
       "      <td>1.0</td>\n",
       "      <td>None</td>\n",
       "      <td>https://app.dimensions.ai/details/publication/...</td>\n",
       "    </tr>\n",
       "    <tr>\n",
       "      <th>61</th>\n",
       "      <td>2020-11-30</td>\n",
       "      <td>pub.1132921501</td>\n",
       "      <td>10.1016/j.jhazmat.2020.124660</td>\n",
       "      <td>NaN</td>\n",
       "      <td>None</td>\n",
       "      <td>Modeling Behaviors of Permeable Non-spherical ...</td>\n",
       "      <td>This study developed and evaluated a behavior ...</td>\n",
       "      <td>Journal of Hazardous Materials</td>\n",
       "      <td>jour.1106099</td>\n",
       "      <td>None</td>\n",
       "      <td>...</td>\n",
       "      <td>Jeonbuk National University; Drexel University</td>\n",
       "      <td>grid.411545.0; grid.166341.7</td>\n",
       "      <td>Jeonju; Philadelphia</td>\n",
       "      <td>South Korea; United States</td>\n",
       "      <td>Industrial Technology Research Institute</td>\n",
       "      <td>None</td>\n",
       "      <td>0</td>\n",
       "      <td>1.0</td>\n",
       "      <td>None</td>\n",
       "      <td>https://app.dimensions.ai/details/publication/...</td>\n",
       "    </tr>\n",
       "  </tbody>\n",
       "</table>\n",
       "<p>3 rows × 31 columns</p>\n",
       "</div>"
      ],
      "text/plain": [
       "    Date added  Publication ID                            DOI  PMID PMCID  \\\n",
       "6   2020-11-30  pub.1132921789   10.1016/j.neulet.2020.135531   NaN  None   \n",
       "42  2020-11-30  pub.1132921496   10.1016/j.neulet.2020.135528   NaN  None   \n",
       "61  2020-11-30  pub.1132921501  10.1016/j.jhazmat.2020.124660   NaN  None   \n",
       "\n",
       "                                                Title  \\\n",
       "6   Neuro-Ophthalmologic Complications of Coronavi...   \n",
       "42  What can we learn from brain autopsy in COVID-19?   \n",
       "61  Modeling Behaviors of Permeable Non-spherical ...   \n",
       "\n",
       "                                             Abstract  \\\n",
       "6   Multiple neuro-ophthalmological manifestations...   \n",
       "42  Severe acute respiratory syndrome coronavirus ...   \n",
       "61  This study developed and evaluated a behavior ...   \n",
       "\n",
       "                      Source title    Source UID Publisher  ...  \\\n",
       "6             Neuroscience Letters  jour.1084802      None  ...   \n",
       "42            Neuroscience Letters  jour.1084802      None  ...   \n",
       "61  Journal of Hazardous Materials  jour.1106099      None  ...   \n",
       "\n",
       "             Research Organizations - standardized  \\\n",
       "6       New York University Langone Medical Center   \n",
       "42                                            None   \n",
       "61  Jeonbuk National University; Drexel University   \n",
       "\n",
       "                        GRID IDs  City of Research organization  \\\n",
       "6                  grid.240324.3                       New York   \n",
       "42                          None                           None   \n",
       "61  grid.411545.0; grid.166341.7           Jeonju; Philadelphia   \n",
       "\n",
       "   Country of Research organization  \\\n",
       "6                     United States   \n",
       "42                             None   \n",
       "61       South Korea; United States   \n",
       "\n",
       "                                               Funder  \\\n",
       "6                                                None   \n",
       "42  National Institute of Neurological Disorders a...   \n",
       "61           Industrial Technology Research Institute   \n",
       "\n",
       "   UIDs of supporting grants Times cited Altmetric Source Linkout  \\\n",
       "6                       None           0       1.0           None   \n",
       "42             grant.7440016           0       1.0           None   \n",
       "61                      None           0       1.0           None   \n",
       "\n",
       "                                       Dimensions URL  \n",
       "6   https://app.dimensions.ai/details/publication/...  \n",
       "42  https://app.dimensions.ai/details/publication/...  \n",
       "61  https://app.dimensions.ai/details/publication/...  \n",
       "\n",
       "[3 rows x 31 columns]"
      ]
     },
     "execution_count": 14,
     "metadata": {},
     "output_type": "execute_result"
    }
   ],
   "source": [
    "# filter subset of those publications with abstract \"mechanism\"\n",
    "dff=df[df[\"Abstract\"].str.contains(\"mechanism\",na=False)]\n",
    "print(len(dff))\n",
    "dff.head(3)"
   ]
  },
  {
   "cell_type": "code",
   "execution_count": 15,
   "id": "married-there",
   "metadata": {},
   "outputs": [
    {
     "data": {
      "text/plain": [
       "'Background: Accumulating evidence indicates that COVID-19 causes adverse outcomes in ethnic minority groups. However, little is known about the impact of ethnicity and household size on acquiring infection with SARS-CoV-2.\\nMethods: We undertook a retrospective cohort study, in Leicester (UK), of all individuals assessed for COVID-19 with polymerase chain reaction (PCR) testing at University Hospitals of Leicester NHS Trust between 1st March and 28th April 2020. We used logistic regression to identify sociodemographic, clinical and temporal factors associated with SARS-CoV-2 PCR positivity before/after lockdown.\\nFindings: 971/4051 (24.0%) patients with suspected COVID-19 were found to be PCR positive for SARS-CoV-2. PCR positivity was more common amongst individuals from ethnic minortiy backgrounds than their White counterparts (White 20.0%, South Asian 37.5%, Black 36.1%, Other 32.2%; p<0.001 for all ethnic minority groups vs White). After adjustment, compared to White ethnicity, South Asian (aOR 2.44 95%CI 2.01, 2.97), Black (aOR 2.56 95%CI 1.71, 3.84) and Other (aOR 2.53 95%CI 1.74, 3.70) ethnicities were more likely to test positive, as were those with a larger estimated household size (aOR 1.06 95%CI 1.02, 1.11). We saw increasing proportions of positive tests in the three weeks post-lockdown amongst the ethnic minority , but not the White, cohort. Estimated household size was associated with PCR positivity after, but not before, lockdown (aOR 1.10 95%CI 1.03, 1.16).\\nInterpretation: In individuals presenting with suspected COVID-19, those from ethnic minority communities and larger households had an increased likelihood of SARS-CoV-2 PCR positivity. Pandemic control measures may have more rapid impact on slowing viral transmission amongst those of White ethnicity compared to ethnic minority groups, Research is urgently required to understand the mechanisms underlying these disparities and whether public health interventions have differential effects on individuals from ethnic minority groups.\\nFunding: 10.13039/100006662 NIHR.'"
      ]
     },
     "execution_count": 15,
     "metadata": {},
     "output_type": "execute_result"
    }
   ],
   "source": [
    "# manual selection of example to analyse\n",
    "example=dff.iloc[4953] # 233\n",
    "example[\"Abstract\"]"
   ]
  },
  {
   "cell_type": "markdown",
   "id": "competitive-silly",
   "metadata": {},
   "source": [
    "# NLP of sentences in abstracts"
   ]
  },
  {
   "cell_type": "code",
   "execution_count": 16,
   "id": "polar-netscape",
   "metadata": {},
   "outputs": [],
   "source": [
    "def data2DF():\n",
    "    sents=[]\n",
    "    for par,row in dff.iterrows():\n",
    "        sentences=nlp(row[\"Abstract\"]).sents\n",
    "        chID=row[\"PMID\"]\n",
    "        for sentID,sent in enumerate(sentences):\n",
    "            sents.append({\"chID\":chID,\"sentID\":sentID,\"sent\":sent})\n",
    "    return(sents)"
   ]
  },
  {
   "cell_type": "code",
   "execution_count": null,
   "id": "informative-genetics",
   "metadata": {},
   "outputs": [],
   "source": [
    "# takes some time depending on the number of rows in dff\n",
    "sents=data2DF()\n",
    "print(f\"number of sentences: {len(sents)}\")"
   ]
  },
  {
   "cell_type": "markdown",
   "id": "unexpected-mauritius",
   "metadata": {},
   "source": [
    "## Filter sentences\n",
    "Filtering sentence items increases the efficancy of subsequent processing for information extraction and semantic modelling. It should be fast enough to reduce efficiently\n",
    "\n",
    "Filter categories operate on the token level of spacy processed sentence docs. It can therefore filter with enriched attributes from the spacy nlp:\n",
    "\n",
    "- matches for the following keys using their values:\n",
    "    - \"text\"\n",
    "    - \"lemma\"\n",
    "    - \"dep\"\n",
    "    - \"pos\"\n",
    "    - \"compound\"\n",
    "    - \"pattern\" \n",
    "    \n",
    "- match pattern is provided by a JSON object: a list of dicts. \n",
    "    - each item of the list is matched on each token.\n",
    "        e.g. [{\"lemma\":\"law\"}] matches if a token has a lemma==\"law\"\n",
    "    \n",
    "Logic of matches: at least one match of a dict on a token of a sentence matches the entire sentence, hence each dict of the list is an or-condition. Each dict element then forms an and-condition."
   ]
  },
  {
   "cell_type": "code",
   "execution_count": null,
   "id": "sonic-present",
   "metadata": {},
   "outputs": [],
   "source": [
    "def lmat(t,dfi):\n",
    "    switch={\"lemma\":t.lemma_,\n",
    "           \"pos\":t.pos_,\n",
    "           \"dep\":t.dep_,\n",
    "            \"text\":t.text}\n",
    "    logs=False\n",
    "    for pat in dfi:\n",
    "        likeys=pat.keys()\n",
    "        for k in likeys:\n",
    "            wert=switch[k]\n",
    "            pt=pat[k]\n",
    "            if pt==wert:\n",
    "                logs=True\n",
    "    return(logs)\n",
    "        \n",
    "        \n",
    "def filtsent(row,dfi):\n",
    "    sent=row[\"sent\"]\n",
    "    lfi=False\n",
    "    for t in sent:\n",
    "        if lmat(t,dfi):\n",
    "            lfi=True\n",
    "            break\n",
    "    return(lfi)\n",
    "\n",
    "def filterdf(df,fdict):\n",
    "    ''' \n",
    "        df dataframe with sentences after nlp processing,\n",
    "        fdict: dictionary with filter categories and match terms\n",
    "    '''\n",
    "    return(df[df.apply(lambda x:filtsent(x,fdict),axis=1)])"
   ]
  },
  {
   "cell_type": "code",
   "execution_count": null,
   "id": "promising-hungary",
   "metadata": {},
   "outputs": [],
   "source": [
    "pat1=[{\"lemma\":\"mechanism\"}]\n",
    "# used for training puposes for selecting few cases\n",
    "dff=df.iloc[:]\n",
    "filterdf(dff,pat1)"
   ]
  },
  {
   "cell_type": "code",
   "execution_count": null,
   "id": "ordered-interpretation",
   "metadata": {},
   "outputs": [],
   "source": [
    "for word in doc:\n",
    "    subtree_span = doc[word.left_edge.i : word.right_edge.i + 1]\n",
    "    print(subtree_span.root.text,\"::\",word.dep_,\"::\",\"--->\",subtree_span.text,)\n",
    "   # print(\"\".join(w.text_with_ws for w in word.subtree))"
   ]
  },
  {
   "cell_type": "code",
   "execution_count": null,
   "id": "established-venue",
   "metadata": {},
   "outputs": [],
   "source": [
    "for word in doc:\n",
    "    if word.dep_ in (\"ROOT\"):\n",
    "        subtree_span = doc[word.left_edge.i : word.right_edge.i + 1]\n",
    "        print(subtree_span.root.text,\"::\",word.dep_,\"::\",\"--->\",subtree_span.text,)\n",
    "        chds=[t.text for t in word.children]\n",
    "        print(\"children:\",chds)\n",
    "        for t in doc:\n",
    "            if t.text in chds:\n",
    "                subtree_span = doc[t.left_edge.i : t.right_edge.i + 1]\n",
    "                print(subtree_span.root.text,\"::\",t.dep_,\"::\",\"--->\",subtree_span.text,)\n",
    "\n"
   ]
  },
  {
   "cell_type": "code",
   "execution_count": null,
   "id": "floating-munich",
   "metadata": {},
   "outputs": [],
   "source": [
    "df=pd.DataFrame(s.to_dict())\n",
    "df[[\"id\",\"text\",\"upos\",\"head\",\"deprel\"]]"
   ]
  },
  {
   "cell_type": "code",
   "execution_count": null,
   "id": "banned-interface",
   "metadata": {},
   "outputs": [],
   "source": [
    "graphviz.Source(deplacy.dot(doc))"
   ]
  },
  {
   "cell_type": "code",
   "execution_count": null,
   "id": "patient-fossil",
   "metadata": {},
   "outputs": [],
   "source": [
    "semtree=MultiDiGraph()\n",
    "for i,e in df.iterrows():\n",
    "    semtree.add_edge(e[\"id\"],e[\"head\"],label=e[\"deprel\"],arrowsize=1, arrowstyle='fancy')"
   ]
  }
 ],
 "metadata": {
  "kernelspec": {
   "display_name": "Python 3",
   "language": "python",
   "name": "python3"
  },
  "language_info": {
   "codemirror_mode": {
    "name": "ipython",
    "version": 3
   },
   "file_extension": ".py",
   "mimetype": "text/x-python",
   "name": "python",
   "nbconvert_exporter": "python",
   "pygments_lexer": "ipython3",
   "version": "3.8.5"
  }
 },
 "nbformat": 4,
 "nbformat_minor": 5
}
